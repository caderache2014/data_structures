{
 "metadata": {
  "name": "",
  "signature": "sha256:7477316803d9cb51e4de4cd2c44d8f7200f5a5f61c691febdede2bb4f707f66f"
 },
 "nbformat": 3,
 "nbformat_minor": 0,
 "worksheets": [
  {
   "cells": [
    {
     "cell_type": "code",
     "collapsed": false,
     "input": [
      "import networkx as nx\n",
      "import pygraphviz as pgv\n",
      "from networkx import graphviz_layout\n",
      "import matplotlib.pyplot as plt\n",
      "%matplotlib inline  "
     ],
     "language": "python",
     "metadata": {},
     "outputs": [],
     "prompt_number": 1
    },
    {
     "cell_type": "code",
     "collapsed": false,
     "input": [
      "class node(object):\n",
      "    def __init__(self, value, left_child=None, right_child=None):\n",
      "        self.value = value\n",
      "        self.left_child = left_child\n",
      "        self.right_child = right_child\n",
      "\n",
      "class binary_tree(object):\n",
      "    def __init__(self, name, root):\n",
      "        self.name = name\n",
      "        self.root = node(root)\n",
      "        self.depth_max = 0\n",
      "        self.curr_depth = 0\n",
      "\n",
      "    def insert(self, val, parent=None):\n",
      "        if parent == None:\n",
      "            parent = self.root\n",
      "        new_node = node(val)\n",
      "        if val<parent.value:\n",
      "            if parent.left_child:\n",
      "                self.insert(val, parent.left_child)\n",
      "            else:\n",
      "                parent.left_child = new_node\n",
      "        else:\n",
      "            if parent.right_child:\n",
      "                self.insert(val, parent.right_child)\n",
      "            else:\n",
      "                parent.right_child = new_node\n",
      "\n",
      "    def traverse(self, curr_node=None, start=True):\n",
      "        if curr_node == None:\n",
      "            return 0\n",
      "        if start:\n",
      "            self.curr_depth = 0\n",
      "            self.depth_max = 0\n",
      "            start = False\n",
      "        self.curr_depth += 1\n",
      "        if curr_node.left_child:\n",
      "            self.traverse(curr_node.left_child, start)\n",
      "        if curr_node.right_child:\n",
      "            self.traverse(curr_node.right_child, start)\n",
      "        self.depth_max=max(self.depth_max,self.curr_depth)\n",
      "        self.curr_depth -= 1\n",
      "        return self.depth_max\n",
      "        \n",
      "    def balance_tree(self, node, parent=None):\n",
      "        if parent == None:\n",
      "            parent = self.root\n",
      "        self.depth_max = 0\n",
      "        self.curr_depth = 0\n",
      "        if node.left_child:\n",
      "            self.balance_tree(node.left_child, node)\n",
      "        if node.right_child:\n",
      "            self.balance_tree(node.right_child, node)\n",
      "        if self.traverse(node.left_child)-1> self.traverse(node.right_child):\n",
      "            self.right_rotation(node, parent)\n",
      "        elif self.traverse(node.right_child)-1> self.traverse(node.left_child):\n",
      "            self.left_rotation(node, parent)\n",
      "                        \n",
      "    def right_rotation(self, node, parent):\n",
      "        if self.traverse(node.left_child.left_child)>self.traverse(node.left_child.right_child):\n",
      "            new_branch = node.left_child.right_child\n",
      "            if parent == node:\n",
      "                self.root = node.left_child\n",
      "            else:\n",
      "                parent.left_child = node.left_child\n",
      "            node.left_child.right_child = node\n",
      "            node.left_child = new_branch\n",
      "        else:\n",
      "            new_branch_right = node.left_child.right_child.right_child\n",
      "            new_branch_left = node.left_child.right_child.left_child\n",
      "            if parent == node:\n",
      "                self.root = node.left_child.right_child\n",
      "            else:\n",
      "                parent.left_child = node.left_child.right_child\n",
      "            node.left_child.right_child.left_child = node.left_child\n",
      "            node.left_child.right_child.right_child = node\n",
      "            node.left_child.right_child = new_branch_left\n",
      "            node.left_child = new_branch_right\n",
      "               \n",
      "                \n",
      "    def left_rotation(self, node, parent):\n",
      "        if self.traverse(node.right_child.right_child)>self.traverse(node.right_child.left_child):\n",
      "            new_branch = node.right_child.left_child\n",
      "            if parent == node:\n",
      "                self.root = node.right_child\n",
      "            else:\n",
      "                parent.right_child = node.right_child\n",
      "            node.right_child.left_child = node\n",
      "            node.right_child = new_branch\n",
      "        else:\n",
      "            new_branch_right = node.right_child.left_child.right_child\n",
      "            new_branch_left = node.right_child.left_child.left_child\n",
      "            if parent == node:\n",
      "                self.root = node.right_child.left_child\n",
      "            else:\n",
      "                parent.right_child = node.right_child.left_child\n",
      "            node.right_child.left_child.right_child = node.right_child\n",
      "            node.right_child.left_child.left_child = node\n",
      "            node.right_child.left_child = new_branch_right\n",
      "            node.right_child = new_branch_left"
     ],
     "language": "python",
     "metadata": {},
     "outputs": [],
     "prompt_number": 3
    },
    {
     "cell_type": "code",
     "collapsed": false,
     "input": [
      "tree = binary_tree('tree',5)"
     ],
     "language": "python",
     "metadata": {},
     "outputs": [],
     "prompt_number": 4
    },
    {
     "cell_type": "code",
     "collapsed": false,
     "input": [
      "tree.insert(0)\n",
      "tree.insert(9)\n",
      "tree.insert(7)\n",
      "tree.insert(8)\n",
      "tree.insert(6)\n",
      "tree.insert(10)\n",
      "\n",
      "tree.traverse(tree.root)"
     ],
     "language": "python",
     "metadata": {},
     "outputs": [
      {
       "metadata": {},
       "output_type": "pyout",
       "prompt_number": 5,
       "text": [
        "4"
       ]
      }
     ],
     "prompt_number": 5
    },
    {
     "cell_type": "code",
     "collapsed": false,
     "input": [],
     "language": "python",
     "metadata": {},
     "outputs": []
    },
    {
     "cell_type": "code",
     "collapsed": false,
     "input": [
      "tree.balance_tree(tree.root)"
     ],
     "language": "python",
     "metadata": {},
     "outputs": [],
     "prompt_number": 6
    },
    {
     "cell_type": "code",
     "collapsed": false,
     "input": [],
     "language": "python",
     "metadata": {},
     "outputs": []
    },
    {
     "cell_type": "code",
     "collapsed": false,
     "input": [
      "def draw_tree(tree):\n",
      "    drawer = nx.DiGraph()\n",
      "    drawer.add_node(tree.root.value)\n",
      "    \n",
      "    def _draw(node):\n",
      "        if node.left_child:\n",
      "            drawer.add_node(node.left_child.value)\n",
      "            drawer.add_edge(node.value,node.left_child.value)\n",
      "            _draw(node.left_child)\n",
      "        if node.right_child:\n",
      "            drawer.add_node(node.right_child.value)\n",
      "            drawer.add_edge(node.value,node.right_child.value)\n",
      "            _draw(node.right_child)\n",
      "            \n",
      "    _draw(tree.root)\n",
      "    nx.draw_graphviz(drawer,prog='dot',node_size=1000, node_color='cyan', with_labels=True)\n",
      "    \n",
      "draw_tree(tree)"
     ],
     "language": "python",
     "metadata": {},
     "outputs": [
      {
       "metadata": {},
       "output_type": "display_data",
       "png": "[encoded data removed]",
       "text": [
        "<matplotlib.figure.Figure at 0x7fbdfc21ead0>"
       ]
      }
     ],
     "prompt_number": 7
    },
    {
     "cell_type": "code",
     "collapsed": false,
     "input": [
      "tree.root.right_child.value"
     ],
     "language": "python",
     "metadata": {},
     "outputs": [
      {
       "metadata": {},
       "output_type": "pyout",
       "prompt_number": 8,
       "text": [
        "9"
       ]
      }
     ],
     "prompt_number": 8
    },
    {
     "cell_type": "code",
     "collapsed": false,
     "input": [],
     "language": "python",
     "metadata": {},
     "outputs": []
    }
   ],
   "metadata": {}
  }
 ]
}